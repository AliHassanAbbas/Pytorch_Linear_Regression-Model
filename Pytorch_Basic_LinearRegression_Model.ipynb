{
  "cells": [
    {
      "cell_type": "markdown",
      "source": [
        "###**Pytorch Basic Linear Regression**"
      ],
      "metadata": {
        "id": "GtPvPapFW7tB"
      }
    },
    {
      "cell_type": "markdown",
      "source": [
        "( My English is not good but if you do what i am saying you will be the master of pytorch and deep learnng   )<br>\n",
        "We have to do 10 steps for making a Linear Regression Model.\n",
        "1. **Import all important libraries for making linear regression model**\n",
        "2. **Get or make sample data for your LinearRegression Model**\n",
        "3. **Convert your data into PyTorch Tensors**\n",
        "4. **Make a LinearRegression model**\n",
        "5. **Get all your weapons ready for training**\n",
        "6. **Train your model**\n",
        "7. **Evaluate your model**\n",
        "8. **Visulize it**\n",
        "9. **Save it**\n",
        "10. **Believe in yourself that you can do it**"
      ],
      "metadata": {
        "id": "nLycVD3UXHaK"
      }
    },
    {
      "cell_type": "markdown",
      "source": [
        "# **Little Motivation** <br>\n",
        "First of all, you have to be proud of yourself because you take your first to become the next **Sam Altman**,**Mira Murati**, etc  \n",
        "\n",
        "Believe me if you make your first linear model. transformers, stable diffusion will become a piece of cake for you, i know it's not practical in your point of view now, but be with me you will become expert in pytorch ,so lets start\n"
      ],
      "metadata": {
        "id": "YjYWF4lwZDTn"
      }
    },
    {
      "cell_type": "markdown",
      "source": [
        "# **1.Import all important libraries for making linear regression model**"
      ],
      "metadata": {
        "id": "wMoVFM0kaLjd"
      }
    },
    {
      "cell_type": "code",
      "source": [
        "import torch  #here just assume it is used for making torch tensors and these type of stuff\n",
        "import torch.nn as nn #assume thing is the thing which will help you to make your neural network\n",
        "import numpy as np #here you are using it make our data (by the way we can also make from torch, but simplicity we using numpy)\n",
        "import matplotlib.pyplot as plt  #for visualizing the data"
      ],
      "metadata": {
        "id": "-D6aeXVqTNoU"
      },
      "execution_count": 138,
      "outputs": []
    },
    {
      "cell_type": "markdown",
      "source": [
        "# **2.Get or make sample data for your LinearRegression Model**"
      ],
      "metadata": {
        "id": "iPVWHxRFbySg"
      }
    },
    {
      "cell_type": "code",
      "execution_count": 139,
      "metadata": {
        "id": "oKJFH6ebXdpX"
      },
      "outputs": [],
      "source": [
        "x_train = np.array([[3.3], [4.4], [5.5], [6.71], [6.93], [4.168],\n",
        "                    [9.779], [6.182], [7.59], [2.167], [7.042],\n",
        "                    [10.791], [5.313], [7.997], [3.1]], dtype=np.float32)   #as you learned that for traning the neural network for regression we have to inputs and target\n",
        "                                                                            #just assume x_train is your inputs(like features)\n",
        "                                                                            #and x_test is your target labels (targets)\n",
        "\n",
        "y_train = np.array([[1.7], [2.76], [2.09], [3.19], [1.694], [1.573],\n",
        "                    [3.366], [2.596], [2.53], [1.221], [2.827],\n",
        "                    [3.465], [1.65], [2.904], [1.3]], dtype=np.float32)"
      ]
    },
    {
      "cell_type": "markdown",
      "source": [
        "# **3.Convert your data into PyTorch Tensors**"
      ],
      "metadata": {
        "id": "jmcM9N0Ib6de"
      }
    },
    {
      "cell_type": "code",
      "source": [
        "x_train=torch.from_numpy(x_train) #here we are converting our data from numpy to torch\n",
        "y_train=torch.from_numpy(y_train)\n",
        "x_train,y_train"
      ],
      "metadata": {
        "colab": {
          "base_uri": "https://localhost:8080/"
        },
        "id": "IE9aUXqRTMoT",
        "outputId": "5d6f2f59-acff-47d5-a049-3e6cb63da629"
      },
      "execution_count": 140,
      "outputs": [
        {
          "output_type": "execute_result",
          "data": {
            "text/plain": [
              "(tensor([[ 3.3000],\n",
              "         [ 4.4000],\n",
              "         [ 5.5000],\n",
              "         [ 6.7100],\n",
              "         [ 6.9300],\n",
              "         [ 4.1680],\n",
              "         [ 9.7790],\n",
              "         [ 6.1820],\n",
              "         [ 7.5900],\n",
              "         [ 2.1670],\n",
              "         [ 7.0420],\n",
              "         [10.7910],\n",
              "         [ 5.3130],\n",
              "         [ 7.9970],\n",
              "         [ 3.1000]]),\n",
              " tensor([[1.7000],\n",
              "         [2.7600],\n",
              "         [2.0900],\n",
              "         [3.1900],\n",
              "         [1.6940],\n",
              "         [1.5730],\n",
              "         [3.3660],\n",
              "         [2.5960],\n",
              "         [2.5300],\n",
              "         [1.2210],\n",
              "         [2.8270],\n",
              "         [3.4650],\n",
              "         [1.6500],\n",
              "         [2.9040],\n",
              "         [1.3000]]))"
            ]
          },
          "metadata": {},
          "execution_count": 140
        }
      ]
    },
    {
      "cell_type": "markdown",
      "source": [
        "# **4.Make a LinearRegression model**"
      ],
      "metadata": {
        "id": "7mjxKv6qcJmN"
      }
    },
    {
      "cell_type": "code",
      "source": [
        "class LinearRegression(nn.Module): #first we make our LinearRegression Class with the help of python's object-oriented programming, then we inherit base class(nn. Module) from pytorch\n",
        "  def __init__(self): # here we are initializing our constructer(if you do not know anything about it , then go on google and see what is constructer (really its a very basic thing ))\n",
        "    super().__init__() # used to call the constructor of  base clas(nn.Module)\n",
        "    self.linear=nn.Linear(1,1) #Here we are initializing our weights and basic(neural network)\n",
        "                          #(1,1)=(number of input features, number of targets,)\n",
        "  def forward(self,x):  # it is necessary to call forward method because it will override the nn.model forward method\n",
        "    out=self.linear(x)  #here we are giving our data into linear model\n",
        "    return out  #from LinearRegression class we are getting output as a return, we we get after sending our data into Linear model"
      ],
      "metadata": {
        "id": "AfcxwsQTTMjr"
      },
      "execution_count": 123,
      "outputs": []
    },
    {
      "cell_type": "code",
      "source": [
        "model=LinearRegression() # Creating object for our class"
      ],
      "metadata": {
        "id": "mmqpCbdHTMhj"
      },
      "execution_count": 124,
      "outputs": []
    },
    {
      "cell_type": "markdown",
      "source": [
        "# **5.Get all your weapons ready for training**"
      ],
      "metadata": {
        "id": "ztj0iwWjeEe7"
      }
    },
    {
      "cell_type": "code",
      "source": [
        "criterion=nn.MSELoss() #  #first weapon our loss function as know it is used for calculating loss of the model\n",
        "optimizer=torch.optim.SGD(model.parameters(),lr=1e-4)   #learning rate  #2nd weapon our optimizer (for updating our model's parameters)"
      ],
      "metadata": {
        "id": "r9yo63KJTMfL"
      },
      "execution_count": 142,
      "outputs": []
    },
    {
      "cell_type": "markdown",
      "source": [
        "# 6. **Train your model**"
      ],
      "metadata": {
        "id": "VsxweQfggIrZ"
      }
    },
    {
      "cell_type": "code",
      "source": [
        "epochs=1000  #hyper parameter, you can change it, means for how many time loop will go through in your data to find the good patterns"
      ],
      "metadata": {
        "id": "M-D9wJU9TMcw"
      },
      "execution_count": 126,
      "outputs": []
    },
    {
      "cell_type": "code",
      "source": [
        "for epoch in range(epochs): #initializing out for loop ,\n",
        "  model.train()   #used before training the model\n",
        "  out=model(x_train)   #getting our prediction from model\n",
        "  loss=criterion(out,y_train)  # getting loss\n",
        "  optimizer.zero_grad()  # making our gradients zero (it is necessary )\n",
        "  loss.backward()  #doing backpropagation\n",
        "  optimizer.step() #applying optimizer on it\n",
        "  if (epoch+1) % 20 ==0:   #for printing losses\n",
        "    print(f'Epochs[{epoch+1}/{epochs}],loss: {loss.item():.6f}')"
      ],
      "metadata": {
        "colab": {
          "base_uri": "https://localhost:8080/"
        },
        "id": "EUg4CQVATMar",
        "outputId": "12a43b1f-234d-4108-a0f2-0950edaa8e8b"
      },
      "execution_count": 129,
      "outputs": [
        {
          "output_type": "stream",
          "name": "stdout",
          "text": [
            "Epochs[20/1000],loss: 0.207101\n",
            "Epochs[40/1000],loss: 0.207062\n",
            "Epochs[60/1000],loss: 0.207023\n",
            "Epochs[80/1000],loss: 0.206983\n",
            "Epochs[100/1000],loss: 0.206944\n",
            "Epochs[120/1000],loss: 0.206905\n",
            "Epochs[140/1000],loss: 0.206866\n",
            "Epochs[160/1000],loss: 0.206827\n",
            "Epochs[180/1000],loss: 0.206788\n",
            "Epochs[200/1000],loss: 0.206749\n",
            "Epochs[220/1000],loss: 0.206711\n",
            "Epochs[240/1000],loss: 0.206672\n",
            "Epochs[260/1000],loss: 0.206633\n",
            "Epochs[280/1000],loss: 0.206594\n",
            "Epochs[300/1000],loss: 0.206556\n",
            "Epochs[320/1000],loss: 0.206517\n",
            "Epochs[340/1000],loss: 0.206478\n",
            "Epochs[360/1000],loss: 0.206440\n",
            "Epochs[380/1000],loss: 0.206401\n",
            "Epochs[400/1000],loss: 0.206363\n",
            "Epochs[420/1000],loss: 0.206324\n",
            "Epochs[440/1000],loss: 0.206286\n",
            "Epochs[460/1000],loss: 0.206248\n",
            "Epochs[480/1000],loss: 0.206209\n",
            "Epochs[500/1000],loss: 0.206171\n",
            "Epochs[520/1000],loss: 0.206133\n",
            "Epochs[540/1000],loss: 0.206095\n",
            "Epochs[560/1000],loss: 0.206056\n",
            "Epochs[580/1000],loss: 0.206018\n",
            "Epochs[600/1000],loss: 0.205980\n",
            "Epochs[620/1000],loss: 0.205942\n",
            "Epochs[640/1000],loss: 0.205904\n",
            "Epochs[660/1000],loss: 0.205866\n",
            "Epochs[680/1000],loss: 0.205828\n",
            "Epochs[700/1000],loss: 0.205790\n",
            "Epochs[720/1000],loss: 0.205752\n",
            "Epochs[740/1000],loss: 0.205715\n",
            "Epochs[760/1000],loss: 0.205677\n",
            "Epochs[780/1000],loss: 0.205639\n",
            "Epochs[800/1000],loss: 0.205601\n",
            "Epochs[820/1000],loss: 0.205564\n",
            "Epochs[840/1000],loss: 0.205526\n",
            "Epochs[860/1000],loss: 0.205488\n",
            "Epochs[880/1000],loss: 0.205451\n",
            "Epochs[900/1000],loss: 0.205413\n",
            "Epochs[920/1000],loss: 0.205376\n",
            "Epochs[940/1000],loss: 0.205338\n",
            "Epochs[960/1000],loss: 0.205301\n",
            "Epochs[980/1000],loss: 0.205264\n",
            "Epochs[1000/1000],loss: 0.205226\n"
          ]
        }
      ]
    },
    {
      "cell_type": "markdown",
      "source": [
        "# **7. Evaluate your model**"
      ],
      "metadata": {
        "id": "RMMwePkYgO6r"
      }
    },
    {
      "cell_type": "code",
      "source": [
        "model.eval()  #for checking how good is your model on the test dataset  (for evaluation )\n",
        "with torch.no_grad(): # because here we do not need gradients because we are just testing our model,\n",
        "  predict=model(x_train) #getting prediction from our model for testing the result\n",
        "\n",
        "predict.data.numpy()  #converting our prediction data into numpy ,\n"
      ],
      "metadata": {
        "colab": {
          "base_uri": "https://localhost:8080/"
        },
        "id": "pKrHWgFZTMX7",
        "outputId": "6b6d983a-b7dc-4d65-ff5b-a70b2dced172"
      },
      "execution_count": 130,
      "outputs": [
        {
          "output_type": "execute_result",
          "data": {
            "text/plain": [
              "array([[1.3289196 ],\n",
              "       [1.6981189 ],\n",
              "       [2.0673184 ],\n",
              "       [2.4734378 ],\n",
              "       [2.5472777 ],\n",
              "       [1.6202517 ],\n",
              "       [3.5035043 ],\n",
              "       [2.2962222 ],\n",
              "       [2.7687974 ],\n",
              "       [0.94864416],\n",
              "       [2.584869  ],\n",
              "       [3.8431678 ],\n",
              "       [2.0045545 ],\n",
              "       [2.9054012 ],\n",
              "       [1.2617924 ]], dtype=float32)"
            ]
          },
          "metadata": {},
          "execution_count": 130
        }
      ]
    },
    {
      "cell_type": "markdown",
      "source": [
        "# 8. **Visulize it**\n"
      ],
      "metadata": {
        "id": "ajtkvqAOgTfi"
      }
    },
    {
      "cell_type": "code",
      "source": [
        "fig=plt.figure(figsize=(10,5))  #using matplotlib to visulize our model\n",
        "plt.plot(x_train.numpy(),y_train.numpy(),'ro',label='original data ')\n",
        "plt.plot(x_train.numpy(),predict,label='fitted_line')\n",
        "plt.legend()\n",
        "plt.show()"
      ],
      "metadata": {
        "colab": {
          "base_uri": "https://localhost:8080/",
          "height": 445
        },
        "id": "KxsWGi6nTMVT",
        "outputId": "87bcd503-a3b4-443e-9f2e-c9d75da5e28e"
      },
      "execution_count": 132,
      "outputs": [
        {
          "output_type": "display_data",
          "data": {
            "text/plain": [
              "<Figure size 1000x500 with 1 Axes>"
            ],
            "image/png": "[encoded data removed]"
          },
          "metadata": {}
        }
      ]
    },
    {
      "cell_type": "markdown",
      "source": [
        "# 9. **Save it**\n"
      ],
      "metadata": {
        "id": "2aqzoQxQgYlJ"
      }
    },
    {
      "cell_type": "code",
      "source": [
        "torch.save(model.state_dict(),'./linearregression.pth')"
      ],
      "metadata": {
        "id": "ddlJ1ax0TMSr"
      },
      "execution_count": 133,
      "outputs": []
    },
    {
      "cell_type": "markdown",
      "source": [
        "# **Belive in yourself that you can do it**"
      ],
      "metadata": {
        "id": "r0QGALydW0qa"
      }
    },
    {
      "cell_type": "code",
      "source": [],
      "metadata": {
        "id": "YC5Gmeh_giqa"
      },
      "execution_count": null,
      "outputs": []
    }
  ],
  "metadata": {
    "colab": {
      "provenance": []
    },
    "kernelspec": {
      "display_name": "Python 3",
      "name": "python3"
    },
    "language_info": {
      "name": "python"
    }
  },
  "nbformat": 4,
  "nbformat_minor": 0
}
